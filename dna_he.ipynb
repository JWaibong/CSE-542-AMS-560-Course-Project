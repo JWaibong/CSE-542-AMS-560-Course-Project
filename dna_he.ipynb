{
 "cells": [
  {
   "cell_type": "markdown",
   "metadata": {},
   "source": [
    "Code in this notebook was inspired by the following concrete-ml documentation example\n",
    "\n",
    "https://github.com/zama-ai/concrete-ml/blob/release/1.2.x/use_case_examples/sentiment_analysis_with_transformer/SentimentClassification.ipynb\n",
    "https://github.com/zama-ai/concrete-ml/blob/release/1.3.x/docs/advanced_examples/XGBClassifier.ipynb\n",
    "https://github.com/zama-ai/concrete-ml/blob/release/1.3.x/docs/advanced_examples/FullyConnectedNeuralNetworkOnMNIST.ipynb\n"
   ]
  },
  {
   "cell_type": "code",
   "execution_count": 1,
   "metadata": {},
   "outputs": [
    {
     "name": "stderr",
     "output_type": "stream",
     "text": [
      "/home/jwaibong/miniconda3/lib/python3.10/site-packages/tqdm/auto.py:22: TqdmWarning: IProgress not found. Please update jupyter and ipywidgets. See https://ipywidgets.readthedocs.io/en/stable/user_install.html\n",
      "  from .autonotebook import tqdm as notebook_tqdm\n",
      "/home/jwaibong/miniconda3/lib/python3.10/site-packages/threadpoolctl.py:546: RuntimeWarning: \n",
      "Found Intel OpenMP ('libiomp') and LLVM OpenMP ('libomp') loaded at\n",
      "the same time. Both libraries are known to be incompatible and this\n",
      "can cause random crashes or deadlocks on Linux when loaded in the\n",
      "same Python program.\n",
      "Using threadpoolctl may cause crashes or deadlocks. For more\n",
      "information and possible workarounds, please see\n",
      "    https://github.com/joblib/threadpoolctl/blob/master/multiple_openmp.md\n",
      "\n",
      "  warnings.warn(msg, RuntimeWarning)\n"
     ]
    },
    {
     "name": "stdout",
     "output_type": "stream",
     "text": [
      "Using device: cuda\n",
      "\n",
      "NVIDIA GeForce RTX 3070 Ti Laptop GPU\n",
      "Memory Usage:\n",
      "Allocated: 0.0 GB\n",
      "Cached:    0.0 GB\n"
     ]
    }
   ],
   "source": [
    "import os\n",
    "import time\n",
    "\n",
    "import numpy\n",
    "import pandas as pd\n",
    "from sklearn.metrics import average_precision_score\n",
    "from sklearn.model_selection import GridSearchCV, train_test_split\n",
    "from concrete.ml.sklearn import XGBClassifier\n",
    "import torch\n",
    "import tqdm\n",
    "from datasets import load_dataset\n",
    "from transformers import AutoModel, AutoTokenizer, AutoModelForMaskedLM\n",
    "import gc\n",
    "\n",
    "device = torch.device('cuda' if torch.cuda.is_available() else 'cpu')\n",
    "print('Using device:', device)\n",
    "print()\n",
    "gc.collect()\n",
    "torch.cuda.empty_cache()\n",
    "if device.type == 'cuda':\n",
    "    print(torch.cuda.get_device_name(0))\n",
    "    print('Memory Usage:')\n",
    "    print('Allocated:', round(torch.cuda.memory_allocated(0)/1024**3,1), 'GB')\n",
    "    print('Cached:   ', round(torch.cuda.memory_reserved(0)/1024**3,1), 'GB')\n",
    "\n"
   ]
  },
  {
   "cell_type": "code",
   "execution_count": 2,
   "metadata": {},
   "outputs": [],
   "source": [
    "regionNameMap = {\n",
    "    \"California\": 0,\n",
    "    \"Europe\": 0,\n",
    "    \"Florida\": 0,\n",
    "    \"New York\": 0,\n",
    "    \"Texas\": 0,\n",
    "    \"Virginia\": 0\n",
    "}\n",
    "\n",
    "\n",
    "organismNameMap = {\n",
    "    \"Zebrafish\": 1,\n",
    "    \"Worm\": 2,\n",
    "    \"Fruitfly\": 3\n",
    "}\n",
    "\n",
    "def getXYFromFile(filename, regionName):\n",
    "    x = []\n",
    "    with open(filename, 'r') as f:\n",
    "        currentSeq = \"\"\n",
    "        for line in f:\n",
    "            if line[0] == '\\n':\n",
    "                x.append(currentSeq)\n",
    "                currentSeq = \"\"\n",
    "                if (len(x) >= 9000):\n",
    "                    break\n",
    "                continue\n",
    "            elif line[0] == '>':\n",
    "                continue\n",
    "            currentSeq += line\n",
    "    \n",
    "    for i in range(len(x)):\n",
    "        x[i] = x[i][:1024]\n",
    "    \n",
    "    y = [regionNameMap[regionName]] * len(x)\n",
    "    return (x, y)\n",
    "\n",
    "def getXYFromDataset(dataset, organismName):\n",
    "    x = dataset[\"Seq\"]\n",
    "    for i in range(len(x)):\n",
    "        x[i] = x[i][:1024]\n",
    "    y = [organismNameMap[organismName]] * len(x)\n",
    "    return (x,y)"
   ]
  },
  {
   "cell_type": "code",
   "execution_count": 3,
   "metadata": {},
   "outputs": [
    {
     "name": "stdout",
     "output_type": "stream",
     "text": [
      "Number of Sequences Texas: 9000\n"
     ]
    }
   ],
   "source": [
    "# X_California, Y_California = getXYFromFile(f\"{os.getcwd()}/ca.fasta\", \"California\")\n",
    "# print(f\"Number of Sequences California: {len(X_California)}\")\n",
    "\n",
    "# X_Florida, Y_Florida = getXYFromFile(f\"{os.getcwd()}/fl.fasta\" \"Florida\")\n",
    "# print(f\"Number of Sequences Florida: {len(X_Florida)}\")\n",
    "\n",
    "# X_NewYork, Y_NewYork = getXYFromFile(f\"{os.getcwd()}/ny.fasta\", \"New York\")\n",
    "# print(f\"Number of Sequences New York: {len(X_NewYork)}\")\n",
    "\n",
    "X_Texas, Y_Texas = getXYFromFile(f\"{os.getcwd()}/tx.fasta\", \"Texas\")\n",
    "print(f\"Number of Sequences Texas: {len(X_Texas)}\")\n",
    "\n",
    "\n",
    "# X_Europe, Y_Europe = getXYFromFile(f\"{os.getcwd()}/eu.fasta\", \"Europe\")\n",
    "# print(f\"Number of Sequences Europe: {len(X_Europe)}\")\n",
    "\n",
    "# X_Virginia, Y_Virginia = getXYFromFile(f\"{os.getcwd()}/va.fasta\", \"South America\")\n",
    "# print(f\"Number of Sequences South America: {len(X_Virginia)}\")"
   ]
  },
  {
   "cell_type": "code",
   "execution_count": 4,
   "metadata": {},
   "outputs": [],
   "source": [
    "split = \"train[:9000]\"\n",
    "wormDataset = load_dataset(\"davidcechak/Worm_DNA_v0\", split=split)\n",
    "\n",
    "X_Worm, Y_Worm = getXYFromDataset(wormDataset, \"Worm\")\n",
    "zebraFishDataset = load_dataset(\"davidcechak/Zebrafish_DNA_v0\", split=split)\n",
    "fruitFlyDataset = load_dataset(\"davidcechak/Fruitfly_DNA_v0\", split=split)\n",
    "\n",
    "X_Zebra, Y_Zebra = getXYFromDataset(zebraFishDataset, \"Zebrafish\")\n",
    "X_Fly, Y_Fly = getXYFromDataset(fruitFlyDataset, \"Fruitfly\")\n"
   ]
  },
  {
   "cell_type": "code",
   "execution_count": 8,
   "metadata": {},
   "outputs": [
    {
     "name": "stdout",
     "output_type": "stream",
     "text": [
      "32400\n",
      "32400\n"
     ]
    }
   ],
   "source": [
    "# x = X_California + X_Florida + X_NewYork + X_Texas + X_Europe + X_Virginia\n",
    "# y = Y_California + Y_Florida + Y_NewYork + Y_Texas + Y_Europe + Y_Virginia\n",
    "\n",
    "x = X_Texas + X_Worm + X_Zebra + X_Fly\n",
    "y = Y_Texas + Y_Worm + Y_Zebra + Y_Fly\n",
    "\n",
    "X_train, X_test, y_train, y_test = train_test_split(\n",
    "    x, y, test_size=0.1, random_state=42\n",
    ")\n",
    "\n",
    "print(len(X_train))\n",
    "print(len(y_train))\n",
    "\n"
   ]
  },
  {
   "cell_type": "code",
   "execution_count": 5,
   "metadata": {},
   "outputs": [
    {
     "ename": "KeyboardInterrupt",
     "evalue": "",
     "output_type": "error",
     "traceback": [
      "\u001b[0;31m---------------------------------------------------------------------------\u001b[0m",
      "\u001b[0;31mKeyboardInterrupt\u001b[0m                         Traceback (most recent call last)",
      "\u001b[1;32m/home/jwaibong/CSE354/CSE354_Final_Project/dna_he.ipynb Cell 6\u001b[0m line \u001b[0;36m6\n\u001b[1;32m      <a href='vscode-notebook-cell://wsl%2Bubuntu/home/jwaibong/CSE354/CSE354_Final_Project/dna_he.ipynb#W6sdnNjb2RlLXJlbW90ZQ%3D%3D?line=0'>1</a>\u001b[0m \u001b[39m# tokenizer = AutoTokenizer.from_pretrained(\"zhihan1996/DNABERT-2-117M\", trust_remote_code=True)\u001b[39;00m\n\u001b[1;32m      <a href='vscode-notebook-cell://wsl%2Bubuntu/home/jwaibong/CSE354/CSE354_Final_Project/dna_he.ipynb#W6sdnNjb2RlLXJlbW90ZQ%3D%3D?line=1'>2</a>\u001b[0m \u001b[39m# model = AutoModel.from_pretrained(\"zhihan1996/DNABERT-2-117M\", trust_remote_code=True)\u001b[39;00m\n\u001b[1;32m      <a href='vscode-notebook-cell://wsl%2Bubuntu/home/jwaibong/CSE354/CSE354_Final_Project/dna_he.ipynb#W6sdnNjb2RlLXJlbW90ZQ%3D%3D?line=2'>3</a>\u001b[0m \u001b[39m# Load model directly\u001b[39;00m\n\u001b[1;32m      <a href='vscode-notebook-cell://wsl%2Bubuntu/home/jwaibong/CSE354/CSE354_Final_Project/dna_he.ipynb#W6sdnNjb2RlLXJlbW90ZQ%3D%3D?line=4'>5</a>\u001b[0m tokenizer \u001b[39m=\u001b[39m AutoTokenizer\u001b[39m.\u001b[39mfrom_pretrained(\u001b[39m\"\u001b[39m\u001b[39mzhihan1996/DNABERT-2-117M\u001b[39m\u001b[39m\"\u001b[39m)\n\u001b[0;32m----> <a href='vscode-notebook-cell://wsl%2Bubuntu/home/jwaibong/CSE354/CSE354_Final_Project/dna_he.ipynb#W6sdnNjb2RlLXJlbW90ZQ%3D%3D?line=5'>6</a>\u001b[0m model \u001b[39m=\u001b[39m AutoModel\u001b[39m.\u001b[39;49mfrom_pretrained(\u001b[39m\"\u001b[39;49m\u001b[39mzhihan1996/DNABERT-2-117M\u001b[39;49m\u001b[39m\"\u001b[39;49m)\u001b[39m.\u001b[39mto(device)\n",
      "File \u001b[0;32m~/miniconda3/lib/python3.10/site-packages/transformers/models/auto/auto_factory.py:565\u001b[0m, in \u001b[0;36m_BaseAutoModelClass.from_pretrained\u001b[0;34m(cls, pretrained_model_name_or_path, *model_args, **kwargs)\u001b[0m\n\u001b[1;32m    563\u001b[0m \u001b[39melif\u001b[39;00m \u001b[39mtype\u001b[39m(config) \u001b[39min\u001b[39;00m \u001b[39mcls\u001b[39m\u001b[39m.\u001b[39m_model_mapping\u001b[39m.\u001b[39mkeys():\n\u001b[1;32m    564\u001b[0m     model_class \u001b[39m=\u001b[39m _get_model_class(config, \u001b[39mcls\u001b[39m\u001b[39m.\u001b[39m_model_mapping)\n\u001b[0;32m--> 565\u001b[0m     \u001b[39mreturn\u001b[39;00m model_class\u001b[39m.\u001b[39;49mfrom_pretrained(\n\u001b[1;32m    566\u001b[0m         pretrained_model_name_or_path, \u001b[39m*\u001b[39;49mmodel_args, config\u001b[39m=\u001b[39;49mconfig, \u001b[39m*\u001b[39;49m\u001b[39m*\u001b[39;49mhub_kwargs, \u001b[39m*\u001b[39;49m\u001b[39m*\u001b[39;49mkwargs\n\u001b[1;32m    567\u001b[0m     )\n\u001b[1;32m    568\u001b[0m \u001b[39mraise\u001b[39;00m \u001b[39mValueError\u001b[39;00m(\n\u001b[1;32m    569\u001b[0m     \u001b[39mf\u001b[39m\u001b[39m\"\u001b[39m\u001b[39mUnrecognized configuration class \u001b[39m\u001b[39m{\u001b[39;00mconfig\u001b[39m.\u001b[39m\u001b[39m__class__\u001b[39m\u001b[39m}\u001b[39;00m\u001b[39m for this kind of AutoModel: \u001b[39m\u001b[39m{\u001b[39;00m\u001b[39mcls\u001b[39m\u001b[39m.\u001b[39m\u001b[39m__name__\u001b[39m\u001b[39m}\u001b[39;00m\u001b[39m.\u001b[39m\u001b[39m\\n\u001b[39;00m\u001b[39m\"\u001b[39m\n\u001b[1;32m    570\u001b[0m     \u001b[39mf\u001b[39m\u001b[39m\"\u001b[39m\u001b[39mModel type should be one of \u001b[39m\u001b[39m{\u001b[39;00m\u001b[39m'\u001b[39m\u001b[39m, \u001b[39m\u001b[39m'\u001b[39m\u001b[39m.\u001b[39mjoin(c\u001b[39m.\u001b[39m\u001b[39m__name__\u001b[39m \u001b[39mfor\u001b[39;00m c \u001b[39min\u001b[39;00m \u001b[39mcls\u001b[39m\u001b[39m.\u001b[39m_model_mapping\u001b[39m.\u001b[39mkeys())\u001b[39m}\u001b[39;00m\u001b[39m.\u001b[39m\u001b[39m\"\u001b[39m\n\u001b[1;32m    571\u001b[0m )\n",
      "File \u001b[0;32m~/miniconda3/lib/python3.10/site-packages/transformers/modeling_utils.py:3307\u001b[0m, in \u001b[0;36mPreTrainedModel.from_pretrained\u001b[0;34m(cls, pretrained_model_name_or_path, config, cache_dir, ignore_mismatched_sizes, force_download, local_files_only, token, revision, use_safetensors, *model_args, **kwargs)\u001b[0m\n\u001b[1;32m   3297\u001b[0m     \u001b[39mif\u001b[39;00m dtype_orig \u001b[39mis\u001b[39;00m \u001b[39mnot\u001b[39;00m \u001b[39mNone\u001b[39;00m:\n\u001b[1;32m   3298\u001b[0m         torch\u001b[39m.\u001b[39mset_default_dtype(dtype_orig)\n\u001b[1;32m   3300\u001b[0m     (\n\u001b[1;32m   3301\u001b[0m         model,\n\u001b[1;32m   3302\u001b[0m         missing_keys,\n\u001b[1;32m   3303\u001b[0m         unexpected_keys,\n\u001b[1;32m   3304\u001b[0m         mismatched_keys,\n\u001b[1;32m   3305\u001b[0m         offload_index,\n\u001b[1;32m   3306\u001b[0m         error_msgs,\n\u001b[0;32m-> 3307\u001b[0m     ) \u001b[39m=\u001b[39m \u001b[39mcls\u001b[39;49m\u001b[39m.\u001b[39;49m_load_pretrained_model(\n\u001b[1;32m   3308\u001b[0m         model,\n\u001b[1;32m   3309\u001b[0m         state_dict,\n\u001b[1;32m   3310\u001b[0m         loaded_state_dict_keys,  \u001b[39m# XXX: rename?\u001b[39;49;00m\n\u001b[1;32m   3311\u001b[0m         resolved_archive_file,\n\u001b[1;32m   3312\u001b[0m         pretrained_model_name_or_path,\n\u001b[1;32m   3313\u001b[0m         ignore_mismatched_sizes\u001b[39m=\u001b[39;49mignore_mismatched_sizes,\n\u001b[1;32m   3314\u001b[0m         sharded_metadata\u001b[39m=\u001b[39;49msharded_metadata,\n\u001b[1;32m   3315\u001b[0m         _fast_init\u001b[39m=\u001b[39;49m_fast_init,\n\u001b[1;32m   3316\u001b[0m         low_cpu_mem_usage\u001b[39m=\u001b[39;49mlow_cpu_mem_usage,\n\u001b[1;32m   3317\u001b[0m         device_map\u001b[39m=\u001b[39;49mdevice_map,\n\u001b[1;32m   3318\u001b[0m         offload_folder\u001b[39m=\u001b[39;49moffload_folder,\n\u001b[1;32m   3319\u001b[0m         offload_state_dict\u001b[39m=\u001b[39;49moffload_state_dict,\n\u001b[1;32m   3320\u001b[0m         dtype\u001b[39m=\u001b[39;49mtorch_dtype,\n\u001b[1;32m   3321\u001b[0m         is_quantized\u001b[39m=\u001b[39;49m(\u001b[39mgetattr\u001b[39;49m(model, \u001b[39m\"\u001b[39;49m\u001b[39mquantization_method\u001b[39;49m\u001b[39m\"\u001b[39;49m, \u001b[39mNone\u001b[39;49;00m) \u001b[39m==\u001b[39;49m QuantizationMethod\u001b[39m.\u001b[39;49mBITS_AND_BYTES),\n\u001b[1;32m   3322\u001b[0m         keep_in_fp32_modules\u001b[39m=\u001b[39;49mkeep_in_fp32_modules,\n\u001b[1;32m   3323\u001b[0m     )\n\u001b[1;32m   3325\u001b[0m model\u001b[39m.\u001b[39mis_loaded_in_4bit \u001b[39m=\u001b[39m load_in_4bit\n\u001b[1;32m   3326\u001b[0m model\u001b[39m.\u001b[39mis_loaded_in_8bit \u001b[39m=\u001b[39m load_in_8bit\n",
      "File \u001b[0;32m~/miniconda3/lib/python3.10/site-packages/transformers/modeling_utils.py:3559\u001b[0m, in \u001b[0;36mPreTrainedModel._load_pretrained_model\u001b[0;34m(cls, model, state_dict, loaded_keys, resolved_archive_file, pretrained_model_name_or_path, ignore_mismatched_sizes, sharded_metadata, _fast_init, low_cpu_mem_usage, device_map, offload_folder, offload_state_dict, dtype, is_quantized, keep_in_fp32_modules)\u001b[0m\n\u001b[1;32m   3557\u001b[0m     set_initialized_submodules(model, _loaded_keys)\n\u001b[1;32m   3558\u001b[0m     \u001b[39m# This will only initialize submodules that are not marked as initialized by the line above.\u001b[39;00m\n\u001b[0;32m-> 3559\u001b[0m     model\u001b[39m.\u001b[39;49mapply(model\u001b[39m.\u001b[39;49m_initialize_weights)\n\u001b[1;32m   3561\u001b[0m \u001b[39m# Set some modules to fp32 if any\u001b[39;00m\n\u001b[1;32m   3562\u001b[0m \u001b[39mif\u001b[39;00m keep_in_fp32_modules \u001b[39mis\u001b[39;00m \u001b[39mnot\u001b[39;00m \u001b[39mNone\u001b[39;00m:\n",
      "File \u001b[0;32m~/miniconda3/lib/python3.10/site-packages/torch/nn/modules/module.py:728\u001b[0m, in \u001b[0;36mModule.apply\u001b[0;34m(self, fn)\u001b[0m\n\u001b[1;32m    693\u001b[0m \u001b[39mr\u001b[39m\u001b[39m\"\"\"Applies ``fn`` recursively to every submodule (as returned by ``.children()``)\u001b[39;00m\n\u001b[1;32m    694\u001b[0m \u001b[39mas well as self. Typical use includes initializing the parameters of a model\u001b[39;00m\n\u001b[1;32m    695\u001b[0m \u001b[39m(see also :ref:`nn-init-doc`).\u001b[39;00m\n\u001b[0;32m   (...)\u001b[0m\n\u001b[1;32m    725\u001b[0m \n\u001b[1;32m    726\u001b[0m \u001b[39m\"\"\"\u001b[39;00m\n\u001b[1;32m    727\u001b[0m \u001b[39mfor\u001b[39;00m module \u001b[39min\u001b[39;00m \u001b[39mself\u001b[39m\u001b[39m.\u001b[39mchildren():\n\u001b[0;32m--> 728\u001b[0m     module\u001b[39m.\u001b[39;49mapply(fn)\n\u001b[1;32m    729\u001b[0m fn(\u001b[39mself\u001b[39m)\n\u001b[1;32m    730\u001b[0m \u001b[39mreturn\u001b[39;00m \u001b[39mself\u001b[39m\n",
      "File \u001b[0;32m~/miniconda3/lib/python3.10/site-packages/torch/nn/modules/module.py:728\u001b[0m, in \u001b[0;36mModule.apply\u001b[0;34m(self, fn)\u001b[0m\n\u001b[1;32m    693\u001b[0m \u001b[39mr\u001b[39m\u001b[39m\"\"\"Applies ``fn`` recursively to every submodule (as returned by ``.children()``)\u001b[39;00m\n\u001b[1;32m    694\u001b[0m \u001b[39mas well as self. Typical use includes initializing the parameters of a model\u001b[39;00m\n\u001b[1;32m    695\u001b[0m \u001b[39m(see also :ref:`nn-init-doc`).\u001b[39;00m\n\u001b[0;32m   (...)\u001b[0m\n\u001b[1;32m    725\u001b[0m \n\u001b[1;32m    726\u001b[0m \u001b[39m\"\"\"\u001b[39;00m\n\u001b[1;32m    727\u001b[0m \u001b[39mfor\u001b[39;00m module \u001b[39min\u001b[39;00m \u001b[39mself\u001b[39m\u001b[39m.\u001b[39mchildren():\n\u001b[0;32m--> 728\u001b[0m     module\u001b[39m.\u001b[39;49mapply(fn)\n\u001b[1;32m    729\u001b[0m fn(\u001b[39mself\u001b[39m)\n\u001b[1;32m    730\u001b[0m \u001b[39mreturn\u001b[39;00m \u001b[39mself\u001b[39m\n",
      "    \u001b[0;31m[... skipping similar frames: Module.apply at line 728 (2 times)]\u001b[0m\n",
      "File \u001b[0;32m~/miniconda3/lib/python3.10/site-packages/torch/nn/modules/module.py:728\u001b[0m, in \u001b[0;36mModule.apply\u001b[0;34m(self, fn)\u001b[0m\n\u001b[1;32m    693\u001b[0m \u001b[39mr\u001b[39m\u001b[39m\"\"\"Applies ``fn`` recursively to every submodule (as returned by ``.children()``)\u001b[39;00m\n\u001b[1;32m    694\u001b[0m \u001b[39mas well as self. Typical use includes initializing the parameters of a model\u001b[39;00m\n\u001b[1;32m    695\u001b[0m \u001b[39m(see also :ref:`nn-init-doc`).\u001b[39;00m\n\u001b[0;32m   (...)\u001b[0m\n\u001b[1;32m    725\u001b[0m \n\u001b[1;32m    726\u001b[0m \u001b[39m\"\"\"\u001b[39;00m\n\u001b[1;32m    727\u001b[0m \u001b[39mfor\u001b[39;00m module \u001b[39min\u001b[39;00m \u001b[39mself\u001b[39m\u001b[39m.\u001b[39mchildren():\n\u001b[0;32m--> 728\u001b[0m     module\u001b[39m.\u001b[39;49mapply(fn)\n\u001b[1;32m    729\u001b[0m fn(\u001b[39mself\u001b[39m)\n\u001b[1;32m    730\u001b[0m \u001b[39mreturn\u001b[39;00m \u001b[39mself\u001b[39m\n",
      "File \u001b[0;32m~/miniconda3/lib/python3.10/site-packages/torch/nn/modules/module.py:729\u001b[0m, in \u001b[0;36mModule.apply\u001b[0;34m(self, fn)\u001b[0m\n\u001b[1;32m    727\u001b[0m \u001b[39mfor\u001b[39;00m module \u001b[39min\u001b[39;00m \u001b[39mself\u001b[39m\u001b[39m.\u001b[39mchildren():\n\u001b[1;32m    728\u001b[0m     module\u001b[39m.\u001b[39mapply(fn)\n\u001b[0;32m--> 729\u001b[0m fn(\u001b[39mself\u001b[39;49m)\n\u001b[1;32m    730\u001b[0m \u001b[39mreturn\u001b[39;00m \u001b[39mself\u001b[39m\n",
      "File \u001b[0;32m~/miniconda3/lib/python3.10/site-packages/transformers/modeling_utils.py:1388\u001b[0m, in \u001b[0;36mPreTrainedModel._initialize_weights\u001b[0;34m(self, module)\u001b[0m\n\u001b[1;32m   1386\u001b[0m \u001b[39mif\u001b[39;00m \u001b[39mgetattr\u001b[39m(module, \u001b[39m\"\u001b[39m\u001b[39m_is_hf_initialized\u001b[39m\u001b[39m\"\u001b[39m, \u001b[39mFalse\u001b[39;00m):\n\u001b[1;32m   1387\u001b[0m     \u001b[39mreturn\u001b[39;00m\n\u001b[0;32m-> 1388\u001b[0m \u001b[39mself\u001b[39;49m\u001b[39m.\u001b[39;49m_init_weights(module)\n\u001b[1;32m   1389\u001b[0m module\u001b[39m.\u001b[39m_is_hf_initialized \u001b[39m=\u001b[39m \u001b[39mTrue\u001b[39;00m\n",
      "File \u001b[0;32m~/miniconda3/lib/python3.10/site-packages/transformers/models/bert/modeling_bert.py:754\u001b[0m, in \u001b[0;36mBertPreTrainedModel._init_weights\u001b[0;34m(self, module)\u001b[0m\n\u001b[1;32m    750\u001b[0m \u001b[39m\"\"\"Initialize the weights\"\"\"\u001b[39;00m\n\u001b[1;32m    751\u001b[0m \u001b[39mif\u001b[39;00m \u001b[39misinstance\u001b[39m(module, nn\u001b[39m.\u001b[39mLinear):\n\u001b[1;32m    752\u001b[0m     \u001b[39m# Slightly different from the TF version which uses truncated_normal for initialization\u001b[39;00m\n\u001b[1;32m    753\u001b[0m     \u001b[39m# cf https://github.com/pytorch/pytorch/pull/5617\u001b[39;00m\n\u001b[0;32m--> 754\u001b[0m     module\u001b[39m.\u001b[39;49mweight\u001b[39m.\u001b[39;49mdata\u001b[39m.\u001b[39;49mnormal_(mean\u001b[39m=\u001b[39;49m\u001b[39m0.0\u001b[39;49m, std\u001b[39m=\u001b[39;49m\u001b[39mself\u001b[39;49m\u001b[39m.\u001b[39;49mconfig\u001b[39m.\u001b[39;49minitializer_range)\n\u001b[1;32m    755\u001b[0m     \u001b[39mif\u001b[39;00m module\u001b[39m.\u001b[39mbias \u001b[39mis\u001b[39;00m \u001b[39mnot\u001b[39;00m \u001b[39mNone\u001b[39;00m:\n\u001b[1;32m    756\u001b[0m         module\u001b[39m.\u001b[39mbias\u001b[39m.\u001b[39mdata\u001b[39m.\u001b[39mzero_()\n",
      "\u001b[0;31mKeyboardInterrupt\u001b[0m: "
     ]
    }
   ],
   "source": [
    "# tokenizer = AutoTokenizer.from_pretrained(\"zhihan1996/DNABERT-2-117M\", trust_remote_code=True)\n",
    "# model = AutoModel.from_pretrained(\"zhihan1996/DNABERT-2-117M\", trust_remote_code=True)\n",
    "# Load model directly\n",
    "\n",
    "tokenizer = AutoTokenizer.from_pretrained(\"zhihan1996/DNABERT-2-117M\")\n",
    "model = AutoModel.from_pretrained(\"zhihan1996/DNABERT-2-117M\").to(device)"
   ]
  },
  {
   "cell_type": "code",
   "execution_count": 35,
   "metadata": {},
   "outputs": [],
   "source": [
    "from tqdm import trange\n",
    "def dna_seqs_to_tensor(\n",
    "    list_X_train: list,\n",
    "    model: AutoModel,\n",
    "    tokenizer: AutoTokenizer,\n",
    "    device: str\n",
    ") -> numpy.ndarray:\n",
    "    output_hidden_states_list = []\n",
    "\n",
    "    all_chunks = []\n",
    "    chunk_lengths = []\n",
    "    for dna in tqdm.tqdm(list_X_train):\n",
    "      chunks = [dna[i:i + 512] for i in range(0, len(dna), 512)]\n",
    "      chunk_lengths.append(len(chunks))\n",
    "      all_chunks.extend(chunks)\n",
    "\n",
    "\n",
    "    i = 0\n",
    "    step = 1\n",
    "    start = 0\n",
    "    stop=len(all_chunks)\n",
    "    with trange(start, stop, step, desc=\"Encoding & Inputting into model\") as t:\n",
    "      j = 0\n",
    "      while i < len(all_chunks):\n",
    "        batch_chunks = all_chunks[i:i+chunk_lengths[j]]\n",
    "        i += chunk_lengths[j]\n",
    "        t.update(chunk_lengths[j])\n",
    "        j += 1\n",
    "        encoded_batch = tokenizer.batch_encode_plus(batch_chunks, padding='max_length', return_tensors='pt', max_length=512, truncation=True)\n",
    "        input = encoded_batch['input_ids'].to(device)\n",
    "        with torch.no_grad():\n",
    "          outputs = model(input)[0]\n",
    "          hidden_rep = torch.mean(outputs, axis=0)\n",
    "          hidden_rep = torch.mean(hidden_rep, axis=0).detach().cpu().numpy()\n",
    "\n",
    "          output_hidden_states_list.append(hidden_rep)\n",
    "\n",
    "\n",
    "    return numpy.stack(output_hidden_states_list, axis=0)\n"
   ]
  },
  {
   "cell_type": "code",
   "execution_count": 36,
   "metadata": {},
   "outputs": [
    {
     "name": "stderr",
     "output_type": "stream",
     "text": [
      "100%|██████████| 3600/3600 [00:00<00:00, 942422.57it/s]\n",
      "Encoding & Inputting into model: 100%|██████████| 7200/7200 [02:03<00:00, 58.46it/s]\n"
     ]
    },
    {
     "name": "stdout",
     "output_type": "stream",
     "text": [
      "(3600, 768)\n"
     ]
    },
    {
     "name": "stderr",
     "output_type": "stream",
     "text": [
      "100%|██████████| 32400/32400 [00:00<00:00, 1086051.48it/s]\n",
      "Encoding & Inputting into model: 100%|██████████| 64800/64800 [19:21<00:00, 55.81it/s]\n"
     ]
    },
    {
     "name": "stdout",
     "output_type": "stream",
     "text": [
      "(32400, 768)\n"
     ]
    }
   ],
   "source": [
    "X_test_transformer = dna_seqs_to_tensor(X_test, model, tokenizer, device)\n",
    "print(X_test_transformer.shape)\n",
    "X_train_transformer = dna_seqs_to_tensor(X_train, model, tokenizer, device)\n",
    "print(X_train_transformer.shape)"
   ]
  },
  {
   "cell_type": "code",
   "execution_count": 6,
   "metadata": {},
   "outputs": [],
   "source": [
    "# numpy.save('train4.npy', X_train_transformer)\n",
    "# numpy.save('test4.npy', X_test_transformer)\n",
    "\n",
    "X_train_transformer =  numpy.load('train4.npy')\n",
    "X_test_transformer =  numpy.load('test4.npy')"
   ]
  },
  {
   "cell_type": "code",
   "execution_count": 38,
   "metadata": {},
   "outputs": [
    {
     "name": "stdout",
     "output_type": "stream",
     "text": [
      "Best score: 0.8110802469135803\n",
      "Best parameters: {'max_depth': 1, 'n_bits': 3, 'n_estimators': 50, 'n_jobs': -1}\n"
     ]
    }
   ],
   "source": [
    "xgb = XGBClassifier()\n",
    "\n",
    "parameters = {\n",
    "    \"n_bits\": [2, 3],\n",
    "    \"max_depth\": [1],\n",
    "    \"n_estimators\": [10, 30, 50],\n",
    "    \"n_jobs\": [-1],\n",
    "}\n",
    "\n",
    "grid_search = GridSearchCV(xgb, parameters, cv=3, n_jobs=1, scoring=\"accuracy\")\n",
    "grid_search.fit(X_train_transformer, y_train)\n",
    "\n",
    "# Check the accuracy of the best model\n",
    "print(f\"Best score: {grid_search.best_score_}\")\n",
    "\n",
    "# Check best hyper-parameters\n",
    "print(f\"Best parameters: {grid_search.best_params_}\")\n",
    "\n",
    "# Extract best model\n",
    "best_model = grid_search.best_estimator_\n"
   ]
  },
  {
   "cell_type": "code",
   "execution_count": 39,
   "metadata": {},
   "outputs": [
    {
     "data": {
      "image/png": "[encoded data removed]",
      "text/plain": [
       "<Figure size 1000x600 with 1 Axes>"
      ]
     },
     "metadata": {},
     "output_type": "display_data"
    }
   ],
   "source": [
    "import matplotlib.pyplot as plt\n",
    "plt.figure(figsize=(10,6))\n",
    "plt.plot(\n",
    "    grid_search.cv_results_[\"param_n_estimators\"][:3],\n",
    "    grid_search.cv_results_[\"mean_test_score\"][:3],\n",
    "    label=\"concrete xgb classifier attempt 1\",\n",
    ")\n",
    "\n",
    "plt.plot(\n",
    "    grid_search.cv_results_[\"param_n_estimators\"][3:],\n",
    "    grid_search.cv_results_[\"mean_test_score\"][3:],\n",
    "    label=\"concrete xgb classifier attempt 2\",\n",
    ")\n",
    "plt.xlabel(\"n_estimators\")\n",
    "plt.ylabel(\"accuracy\")\n",
    "plt.legend()\n",
    "plt.show()"
   ]
  },
  {
   "cell_type": "code",
   "execution_count": 40,
   "metadata": {},
   "outputs": [
    {
     "name": "stdout",
     "output_type": "stream",
     "text": [
      "Accuracy: 0.8050\n",
      "Average precision score for covid class: 1.0000\n",
      "Average precision score for zebrafish class: 0.8713\n",
      "Average precision score for worm class: 0.8460\n",
      "Average precision score for fruitfly class: 0.7736\n"
     ]
    }
   ],
   "source": [
    "y_proba_test_tfidf = best_model.predict_proba(X_test_transformer)\n",
    "\n",
    "# Compute accuracy\n",
    "y_pred_test_tfidf = numpy.argmax(y_proba_test_tfidf, axis=1)\n",
    "accuracy_tfidf = numpy.mean(y_pred_test_tfidf == y_test)\n",
    "print(f\"Accuracy: {accuracy_tfidf:.4f}\")\n",
    "\n",
    "y_pred_covid = y_proba_test_tfidf[:, 0]\n",
    "y_pred_zebrafish = y_proba_test_tfidf[:, 1]\n",
    "y_pred_worm = y_proba_test_tfidf[:, 2]\n",
    "y_pref_fruitfly = y_proba_test_tfidf[:, 3]\n",
    "\n",
    "def yToBin(y, label):\n",
    "    output = []\n",
    "    for element in y:\n",
    "        if element != label:\n",
    "            output.append(0)\n",
    "        else:\n",
    "            output.append(1)\n",
    "    return output\n",
    "\n",
    "ap_covid_tfidf = average_precision_score(yToBin(y_test, 0), y_pred_covid)\n",
    "ap_zebrafish_tfidf = average_precision_score(yToBin(y_test, 1), y_pred_zebrafish )\n",
    "ap_worm_tfidf = average_precision_score(yToBin(y_test, 2), y_pred_worm )\n",
    "ap_fruitfly_tfidf = average_precision_score(yToBin(y_test, 3), y_pref_fruitfly)\n",
    "\n",
    "# print(f\"Average precision score for positive class: \" f\"{ap_positive_tfidf:.4f}\")\n",
    "print(f\"Average precision score for covid class: \" f\"{ap_covid_tfidf:.4f}\")\n",
    "print(f\"Average precision score for zebrafish class: \" f\"{ap_zebrafish_tfidf:.4f}\")\n",
    "print(f\"Average precision score for worm class: \" f\"{ap_worm_tfidf:.4f}\")\n",
    "print(f\"Average precision score for fruitfly class: \" f\"{ap_fruitfly_tfidf:.4f}\")"
   ]
  },
  {
   "cell_type": "code",
   "execution_count": 41,
   "metadata": {},
   "outputs": [
    {
     "name": "stdout",
     "output_type": "stream",
     "text": [
      "Compilation time: 17.9688 seconds\n",
      "FHE inference time: 533.3526 seconds\n"
     ]
    }
   ],
   "source": [
    "# Compile the model to get the FHE inference engine\n",
    "# (this may take a few minutes depending on the selected model)\n",
    "start = time.perf_counter()\n",
    "best_model.compile(X_train_transformer)\n",
    "end = time.perf_counter()\n",
    "print(f\"Compilation time: {end - start:.4f} seconds\")\n",
    "\n",
    "\n",
    "# Let's write a custom example and predict in FHE\n",
    "clear_proba = best_model.predict_proba(X_test_transformer[:500], fhe=\"disable\")\n",
    "\n",
    "start = time.perf_counter()\n",
    "decrypted_proba = best_model.predict_proba(X_test_transformer[:500], fhe=\"execute\")\n",
    "end = time.perf_counter()\n",
    "fhe_exec_time = end - start\n",
    "print(f\"FHE inference time: {fhe_exec_time:.4f} seconds\")"
   ]
  },
  {
   "cell_type": "code",
   "execution_count": 44,
   "metadata": {},
   "outputs": [
    {
     "name": "stdout",
     "output_type": "stream",
     "text": [
      "Probabilities from the clear inference: [[0.01563884 0.45631817 0.4300955  0.09794749]\n",
      " [0.02868643 0.34450602 0.10547257 0.52133498]\n",
      " [0.02198664 0.50630322 0.29722471 0.17448542]\n",
      " ...\n",
      " [0.92622973 0.02225555 0.01977118 0.03174355]\n",
      " [0.95971495 0.01436279 0.01068377 0.01523848]\n",
      " [0.01345715 0.18191948 0.5600588  0.24456456]]\n"
     ]
    }
   ],
   "source": [
    "print(f\"Probabilities from the clear inference: {clear_proba}\")"
   ]
  },
  {
   "cell_type": "code",
   "execution_count": 42,
   "metadata": {},
   "outputs": [
    {
     "name": "stdout",
     "output_type": "stream",
     "text": [
      "Probabilities from the FHE inference: [[0.01563884 0.45631817 0.4300955  0.09794749]\n",
      " [0.02868643 0.34450602 0.10547257 0.52133498]\n",
      " [0.02198664 0.50630322 0.29722471 0.17448542]\n",
      " ...\n",
      " [0.92622973 0.02225555 0.01977118 0.03174355]\n",
      " [0.95971495 0.01436279 0.01068377 0.01523848]\n",
      " [0.01345715 0.18191948 0.5600588  0.24456456]]\n"
     ]
    }
   ],
   "source": [
    "print(f\"Probabilities from the FHE inference: {decrypted_proba}\")\n"
   ]
  },
  {
   "cell_type": "code",
   "execution_count": null,
   "metadata": {},
   "outputs": [
    {
     "name": "stdout",
     "output_type": "stream",
     "text": [
      "  epoch    train_loss    valid_acc    valid_loss      dur\n",
      "-------  ------------  -----------  ------------  -------\n",
      "      1      \u001b[36m159.6827\u001b[0m       \u001b[32m0.2389\u001b[0m        \u001b[35m1.3897\u001b[0m  85.7749\n",
      "      2        \u001b[36m3.8482\u001b[0m       \u001b[32m0.2495\u001b[0m        1.3935  84.9308\n",
      "      3        \u001b[36m1.3975\u001b[0m       \u001b[32m0.2503\u001b[0m        1.4028  83.4168\n",
      "      4        1.3989       0.2503        1.4154  94.5660\n",
      "      5        1.4004       0.2503        1.4154  105.7929\n",
      "      6        \u001b[36m1.3951\u001b[0m       0.2503        1.3942  103.6366\n",
      "      7        \u001b[36m1.3904\u001b[0m       0.2503        1.3931  103.6058\n",
      "      8        1.3905       0.2503        1.3942  102.8903\n",
      "      9        1.3907       0.2503        1.4001  104.1789\n",
      "     10        1.3909       0.2503        1.4001  102.0503\n",
      "     11        1.3924       0.2503        1.4001  103.0224\n",
      "     12        1.3931       0.2503        1.3996  104.6200\n"
     ]
    },
    {
     "ename": "",
     "evalue": "",
     "output_type": "error",
     "traceback": [
      "\u001b[1;31mThe Kernel crashed while executing code in the the current cell or a previous cell. Please review the code in the cell(s) to identify a possible cause of the failure. Click <a href='https://aka.ms/vscodeJupyterKernelCrash'>here</a> for more info. View Jupyter <a href='command:jupyter.viewOutput'>log</a> for further details."
     ]
    }
   ],
   "source": [
    "from concrete.ml.sklearn import NeuralNetClassifier\n",
    "params = {\n",
    "    \"module__n_layers\": 5,\n",
    "    \"module__n_w_bits\": 4,\n",
    "    \"module__n_a_bits\": 4,\n",
    "    \"module__activation_function\": torch.nn.ReLU,\n",
    "    \"max_epochs\": 15,\n",
    "}\n",
    "model = NeuralNetClassifier(**params)\n",
    "try:\n",
    "  model.fit(X=X_train_transformer, y=y_train)\n",
    "except RuntimeError as e:\n",
    "  print(e)\n"
   ]
  },
  {
   "cell_type": "code",
   "execution_count": null,
   "metadata": {},
   "outputs": [],
   "source": []
  }
 ],
 "metadata": {
  "kernelspec": {
   "display_name": "cse354",
   "language": "python",
   "name": "python3"
  },
  "language_info": {
   "codemirror_mode": {
    "name": "ipython",
    "version": 3
   },
   "file_extension": ".py",
   "mimetype": "text/x-python",
   "name": "python",
   "nbconvert_exporter": "python",
   "pygments_lexer": "ipython3",
   "version": "3.10.9"
  }
 },
 "nbformat": 4,
 "nbformat_minor": 2
}
